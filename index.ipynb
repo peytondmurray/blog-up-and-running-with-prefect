{
 "cells": [
  {
   "cell_type": "markdown",
   "id": "60207837-273a-4c90-ab56-4033dd7614d7",
   "metadata": {},
   "source": [
    "# up and running with prefect\n",
    "Many types of applications involve executing many subtasks, some of which may be resource-intensive or long-running, and which may fail at any time for multiple reasons. Being able to define tasks, chain them together, and monitor execution is a nontrivial part of any modern computational pipeline.\n",
    "\n",
    "`prefect` is an open source workflow management library built to address this problem. [prefect.io](Prefect), the company behind the `prefect` library (also known as [Prefect Core](https://www.prefect.io/core) in the official documentation), offers a cloud-based task management dashboard called [Prefect Cloud](https://www.prefect.io/cloud/) as their flagship product. By itself, the `prefect` library is [open source](https://github.com/PrefectHQ/prefect) and totally free to use.\n",
    "\n",
    "\n",
    "\n",
    "## what are other task management systems?\n",
    "* [Apache Airflow](https://airflow.apache.org/)\n",
    "* [Luigi](https://github.com/spotify/luigi)\n",
    "\n",
    "* a little background how old?\n",
    "\n",
    "The first public release of prefect, v0.2.0, was released in July of 2018. Since then the Prefect team has released on a regular cadence, adding features and addressing bugs. "
   ]
  },
  {
   "cell_type": "markdown",
   "id": "0c969273-eeb1-44b6-b063-006aadb83981",
   "metadata": {
    "tags": []
   },
   "source": [
    "## the example \n",
    "\n",
    "In this example, we'll create a simple `prefect` pipeline. We'll write _tasks_ (individual steps in an overall pipeline), create a _flow_ (a series of tasks), and visualize our task graph using `graphviz`.\n",
    "\n",
    "We start by installing `prefect`; we'll also need [pandas](https://pandas.pydata.org/) and [numpy](https://numpy.org/):\n",
    "\n",
    "`pip install prefect prefect[viz] pandas numpy scikit-learn`\n",
    "\n",
    "`prefect[viz]` is an optional extra which is only needed if you want to generate flow visualizations with `graphviz`. "
   ]
  },
  {
   "cell_type": "code",
   "execution_count": 17,
   "id": "b073e67d-e600-451c-a743-4800388f8712",
   "metadata": {},
   "outputs": [],
   "source": [
    "    import prefect, pandas as pd, numpy, sklearn.datasets as sd"
   ]
  },
  {
   "cell_type": "code",
   "execution_count": 25,
   "id": "e607c1dc-f53a-4235-a146-f36a80e3dfef",
   "metadata": {},
   "outputs": [
    {
     "data": {
      "text/html": [
       "<div>\n",
       "<style scoped>\n",
       "    .dataframe tbody tr th:only-of-type {\n",
       "        vertical-align: middle;\n",
       "    }\n",
       "\n",
       "    .dataframe tbody tr th {\n",
       "        vertical-align: top;\n",
       "    }\n",
       "\n",
       "    .dataframe thead th {\n",
       "        text-align: right;\n",
       "    }\n",
       "</style>\n",
       "<table border=\"1\" class=\"dataframe\">\n",
       "  <thead>\n",
       "    <tr style=\"text-align: right;\">\n",
       "      <th></th>\n",
       "      <th>a</th>\n",
       "      <th>b</th>\n",
       "      <th>c</th>\n",
       "    </tr>\n",
       "  </thead>\n",
       "  <tbody>\n",
       "    <tr>\n",
       "      <th>0</th>\n",
       "      <td>6.373007</td>\n",
       "      <td>8.546682</td>\n",
       "      <td>-4.873265</td>\n",
       "    </tr>\n",
       "    <tr>\n",
       "      <th>1</th>\n",
       "      <td>8.102369</td>\n",
       "      <td>0.018026</td>\n",
       "      <td>-2.739402</td>\n",
       "    </tr>\n",
       "    <tr>\n",
       "      <th>2</th>\n",
       "      <td>7.632281</td>\n",
       "      <td>8.073282</td>\n",
       "      <td>-4.475600</td>\n",
       "    </tr>\n",
       "    <tr>\n",
       "      <th>3</th>\n",
       "      <td>8.194697</td>\n",
       "      <td>-1.234067</td>\n",
       "      <td>-1.062361</td>\n",
       "    </tr>\n",
       "    <tr>\n",
       "      <th>4</th>\n",
       "      <td>6.629816</td>\n",
       "      <td>10.244118</td>\n",
       "      <td>-5.894895</td>\n",
       "    </tr>\n",
       "    <tr>\n",
       "      <th>...</th>\n",
       "      <td>...</td>\n",
       "      <td>...</td>\n",
       "      <td>...</td>\n",
       "    </tr>\n",
       "    <tr>\n",
       "      <th>95</th>\n",
       "      <td>8.123895</td>\n",
       "      <td>10.931886</td>\n",
       "      <td>-7.344706</td>\n",
       "    </tr>\n",
       "    <tr>\n",
       "      <th>96</th>\n",
       "      <td>8.158797</td>\n",
       "      <td>7.991207</td>\n",
       "      <td>-5.532279</td>\n",
       "    </tr>\n",
       "    <tr>\n",
       "      <th>97</th>\n",
       "      <td>4.486044</td>\n",
       "      <td>1.983557</td>\n",
       "      <td>-3.030938</td>\n",
       "    </tr>\n",
       "    <tr>\n",
       "      <th>98</th>\n",
       "      <td>-8.708165</td>\n",
       "      <td>6.606006</td>\n",
       "      <td>4.547617</td>\n",
       "    </tr>\n",
       "    <tr>\n",
       "      <th>99</th>\n",
       "      <td>7.414056</td>\n",
       "      <td>-0.317084</td>\n",
       "      <td>-2.139183</td>\n",
       "    </tr>\n",
       "  </tbody>\n",
       "</table>\n",
       "<p>100 rows × 3 columns</p>\n",
       "</div>"
      ],
      "text/plain": [
       "           a          b         c\n",
       "0   6.373007   8.546682 -4.873265\n",
       "1   8.102369   0.018026 -2.739402\n",
       "2   7.632281   8.073282 -4.475600\n",
       "3   8.194697  -1.234067 -1.062361\n",
       "4   6.629816  10.244118 -5.894895\n",
       "..       ...        ...       ...\n",
       "95  8.123895  10.931886 -7.344706\n",
       "96  8.158797   7.991207 -5.532279\n",
       "97  4.486044   1.983557 -3.030938\n",
       "98 -8.708165   6.606006  4.547617\n",
       "99  7.414056  -0.317084 -2.139183\n",
       "\n",
       "[100 rows x 3 columns]"
      ]
     },
     "execution_count": 25,
     "metadata": {},
     "output_type": "execute_result"
    }
   ],
   "source": [
    "data, _ = sd.make_blobs(n_features=3)\n",
    "pd.DataFrame(data, columns=['a', 'b', 'c'])"
   ]
  },
  {
   "cell_type": "code",
   "execution_count": 22,
   "id": "7f36de22-958d-4181-b0b6-0ee93cc110a5",
   "metadata": {},
   "outputs": [],
   "source": [
    "    @prefect.task(nout=2)\n",
    "    def split(df: pandas.DataFrame, fraction: float = 0.7):\n",
    "        n_train = int(fraction*len(df))\n",
    "        return df.iloc[:n_train], df.iloc[n_train:]"
   ]
  },
  {
   "cell_type": "code",
   "execution_count": 9,
   "id": "454c65ac-1e24-406b-ad8b-b1e77a7acea4",
   "metadata": {},
   "outputs": [],
   "source": [
    "    @prefect.task\n",
    "    def make_random_df(nrows=20):\n",
    "        return pd.DataFrame(dict(\n",
    "            a=numpy.random.randint(low=0, high=100, size=nrows), \n",
    "            b=numpy.random.randint(low=0, high=100, size=nrows)\n",
    "        ))"
   ]
  },
  {
   "cell_type": "markdown",
   "id": "585a6c2d-d8fc-4b32-a11c-f47f1981a874",
   "metadata": {},
   "source": [
    "## `prefect` flows\n",
    "\n",
    "`prefect`'s language and analogies."
   ]
  },
  {
   "cell_type": "markdown",
   "id": "afcf6544-441b-4fce-aeb9-0ca00cd0355d",
   "metadata": {},
   "source": [
    "    def generate_flow():\n",
    "        with prefect.Flow('My Flow') as flow:\n",
    "            random_df = make_random_df(nrows=100)\n",
    "            train, test = split(df=random_df, fraction=0.7)\n",
    "        return flow"
   ]
  },
  {
   "cell_type": "code",
   "execution_count": 10,
   "id": "613a6be2-d810-4594-876b-9a951b485a96",
   "metadata": {},
   "outputs": [],
   "source": [
    "    def generate_flow():\n",
    "        with prefect.Flow('My Flow') as flow:\n",
    "            random_df = make_random_df(nrows=100)\n",
    "            train, test = split(df=random_df, fraction=0.7)\n",
    "        return flow"
   ]
  },
  {
   "cell_type": "code",
   "execution_count": 12,
   "id": "e7f1688e-a192-4299-a0b9-fa8367616f40",
   "metadata": {},
   "outputs": [],
   "source": [
    "    if __name__ == \"__main__\":\n",
    "        flow = generate_flow()\n",
    "        flow.visualize()\n",
    "#         import doctest\n",
    "#         doctest.testmod()"
   ]
  },
  {
   "cell_type": "markdown",
   "id": "0afe029b-b8c8-4716-adc9-1413231148ed",
   "metadata": {},
   "source": [
    "## what and why should continue with `prefect`"
   ]
  },
  {
   "cell_type": "markdown",
   "id": "23801ff3-eaa7-4986-8bcb-6b7274645841",
   "metadata": {},
   "source": [
    "One of the most useful features of `prefect` is its ability to generate a task graph using `graphviz`. To generate a graph,"
   ]
  },
  {
   "cell_type": "code",
   "execution_count": 13,
   "id": "38052a3a-b366-460b-9611-e6040f7a0211",
   "metadata": {},
   "outputs": [
    {
     "data": {
      "image/svg+xml": [
       "<?xml version=\"1.0\" encoding=\"UTF-8\" standalone=\"no\"?>\n",
       "<!DOCTYPE svg PUBLIC \"-//W3C//DTD SVG 1.1//EN\"\n",
       " \"http://www.w3.org/Graphics/SVG/1.1/DTD/svg11.dtd\">\n",
       "<!-- Generated by graphviz version 2.48.0 (0)\n",
       " -->\n",
       "<!-- Pages: 1 -->\n",
       "<svg width=\"222pt\" height=\"218pt\"\n",
       " viewBox=\"0.00 0.00 222.20 218.00\" xmlns=\"http://www.w3.org/2000/svg\" xmlns:xlink=\"http://www.w3.org/1999/xlink\">\n",
       "<g id=\"graph0\" class=\"graph\" transform=\"scale(1 1) rotate(0) translate(4 214)\">\n",
       "<polygon fill=\"white\" stroke=\"transparent\" points=\"-4,4 -4,-214 218.2,-214 218.2,4 -4,4\"/>\n",
       "<!-- 140613545850144 -->\n",
       "<g id=\"node1\" class=\"node\">\n",
       "<title>140613545850144</title>\n",
       "<ellipse fill=\"none\" stroke=\"black\" cx=\"97.2\" cy=\"-192\" rx=\"89.08\" ry=\"18\"/>\n",
       "<text text-anchor=\"middle\" x=\"97.2\" y=\"-188.3\" font-family=\"Times,serif\" font-size=\"14.00\">make_random_df</text>\n",
       "</g>\n",
       "<!-- 140614081281280 -->\n",
       "<g id=\"node2\" class=\"node\">\n",
       "<title>140614081281280</title>\n",
       "<ellipse fill=\"none\" stroke=\"black\" cx=\"97.2\" cy=\"-105\" rx=\"31.4\" ry=\"18\"/>\n",
       "<text text-anchor=\"middle\" x=\"97.2\" y=\"-101.3\" font-family=\"Times,serif\" font-size=\"14.00\">split</text>\n",
       "</g>\n",
       "<!-- 140613545850144&#45;&gt;140614081281280 -->\n",
       "<g id=\"edge3\" class=\"edge\">\n",
       "<title>140613545850144&#45;&gt;140614081281280</title>\n",
       "<path fill=\"none\" stroke=\"black\" d=\"M97.2,-173.8C97.2,-162.16 97.2,-146.55 97.2,-133.24\"/>\n",
       "<polygon fill=\"black\" stroke=\"black\" points=\"100.7,-133.18 97.2,-123.18 93.7,-133.18 100.7,-133.18\"/>\n",
       "<text text-anchor=\"middle\" x=\"104.7\" y=\"-144.8\" font-family=\"Times,serif\" font-size=\"14.00\">df</text>\n",
       "</g>\n",
       "<!-- 140613545849136 -->\n",
       "<g id=\"node3\" class=\"node\">\n",
       "<title>140613545849136</title>\n",
       "<ellipse fill=\"none\" stroke=\"black\" cx=\"44.2\" cy=\"-18\" rx=\"44.39\" ry=\"18\"/>\n",
       "<text text-anchor=\"middle\" x=\"44.2\" y=\"-14.3\" font-family=\"Times,serif\" font-size=\"14.00\">split[0]</text>\n",
       "</g>\n",
       "<!-- 140614081281280&#45;&gt;140613545849136 -->\n",
       "<g id=\"edge2\" class=\"edge\">\n",
       "<title>140614081281280&#45;&gt;140613545849136</title>\n",
       "<path fill=\"none\" stroke=\"black\" d=\"M72.14,-94.01C61.51,-88.36 50.2,-80.17 44.2,-69 40.52,-62.17 39.41,-54.01 39.52,-46.29\"/>\n",
       "<polygon fill=\"black\" stroke=\"black\" points=\"43.02,-46.43 40.31,-36.19 36.04,-45.89 43.02,-46.43\"/>\n",
       "<text text-anchor=\"middle\" x=\"83.7\" y=\"-57.8\" font-family=\"Times,serif\" font-size=\"14.00\">task_result</text>\n",
       "</g>\n",
       "<!-- 140613545997984 -->\n",
       "<g id=\"node4\" class=\"node\">\n",
       "<title>140613545997984</title>\n",
       "<ellipse fill=\"none\" stroke=\"black\" cx=\"150.2\" cy=\"-18\" rx=\"44.39\" ry=\"18\"/>\n",
       "<text text-anchor=\"middle\" x=\"150.2\" y=\"-14.3\" font-family=\"Times,serif\" font-size=\"14.00\">split[1]</text>\n",
       "</g>\n",
       "<!-- 140614081281280&#45;&gt;140613545997984 -->\n",
       "<g id=\"edge1\" class=\"edge\">\n",
       "<title>140614081281280&#45;&gt;140613545997984</title>\n",
       "<path fill=\"none\" stroke=\"black\" d=\"M111.92,-88.7C117.13,-82.83 122.79,-75.87 127.2,-69 131.96,-61.56 136.28,-52.98 139.86,-45.05\"/>\n",
       "<polygon fill=\"black\" stroke=\"black\" points=\"143.1,-46.38 143.84,-35.81 136.67,-43.61 143.1,-46.38\"/>\n",
       "<text text-anchor=\"middle\" x=\"174.7\" y=\"-57.8\" font-family=\"Times,serif\" font-size=\"14.00\">task_result</text>\n",
       "</g>\n",
       "</g>\n",
       "</svg>\n"
      ],
      "text/plain": [
       "<graphviz.dot.Digraph at 0x7fe3248eeee0>"
      ]
     },
     "execution_count": 13,
     "metadata": {},
     "output_type": "execute_result"
    }
   ],
   "source": [
    "flow = generate_flow()\n",
    "flow.visualize()"
   ]
  },
  {
   "cell_type": "markdown",
   "id": "78cf9287-2560-4ee6-ab04-71f680985909",
   "metadata": {},
   "source": [
    "* what other problems could this solve?\n",
    "Although this example is simple, it could be extended to meet the needs of a full-fledged ML pipeline."
   ]
  }
 ],
 "metadata": {
  "kernelspec": {
   "display_name": "Python 3 (ipykernel)",
   "language": "python",
   "name": "python3"
  },
  "language_info": {
   "codemirror_mode": {
    "name": "ipython",
    "version": 3
   },
   "file_extension": ".py",
   "mimetype": "text/x-python",
   "name": "python",
   "nbconvert_exporter": "python",
   "pygments_lexer": "ipython3",
   "version": "3.9.1"
  }
 },
 "nbformat": 4,
 "nbformat_minor": 5
}
