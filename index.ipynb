{
 "cells": [
  {
   "cell_type": "markdown",
   "id": "41e8bbf6-c2f9-463d-a4d6-dfe036196367",
   "metadata": {
    "tags": []
   },
   "source": [
    "# up and running with prefect\n",
    "Many types of applications can be broken down into subtasks, some of which may be resource-intensive or long-running, and which may fail at any time for multiple reasons. Being able to define tasks, chain them together, and monitor execution is a nontrivial part of any modern computational pipeline.\n",
    "\n",
    "`prefect` is an open source workflow management library built to address this problem. The first public release of prefect, v0.2.0, was released in July of 2018. Since then the Prefect team has released on a regular cadence, adding features and addressing bugs. [prefect.io](Prefect), the company behind the `prefect` library (also known as [Prefect Core](https://www.prefect.io/core) in the official documentation), offers a cloud-based task management dashboard called [Prefect Cloud](https://www.prefect.io/cloud/) as their flagship product. By itself, the `prefect` library is [open source](https://github.com/PrefectHQ/prefect) and totally free to use. Today we'll explore some of `prefect`'s data structures by building a simple pipeline.\n",
    "\n",
    "## what are other task management systems?\n",
    "* [Apache Airflow](https://airflow.apache.org/)\n",
    "* [Luigi](https://github.com/spotify/luigi)\n",
    "\n",
    "## first steps\n",
    "\n",
    "In this example, we'll create a simple `prefect` pipeline. We'll write _tasks_ (individual steps in an overall pipeline), create a _flow_ (a series of tasks), and visualize our task graph using `graphviz`. First we'll need to install `prefect`; we'll also need [pandas](https://pandas.pydata.org/) and [numpy](https://numpy.org/). For fake data, we'll use [scikit-learn](https://scikit-learn.org/stable/):\n",
    "\n",
    "`pip install prefect prefect[viz] pandas numpy scikit-learn`\n",
    "\n",
    "`prefect[viz]` is an optional extra which is only needed if you want to generate flow visualizations with `graphviz`.\n",
    "\n",
    "\n",
    "## the example\n",
    "Let's imagine that we have a list of shipments; these parcels need to be classified according to whether they are shippable as-is, or oversize (and therefore subject to a higher fee). First, we'll import the required libraries and generate some example data."
   ]
  },
  {
   "cell_type": "code",
   "execution_count": 1,
   "id": "b073e67d-e600-451c-a743-4800388f8712",
   "metadata": {},
   "outputs": [],
   "source": [
    "    import prefect, pandas, numpy, sklearn.datasets"
   ]
  },
  {
   "cell_type": "code",
   "execution_count": 2,
   "id": "e607c1dc-f53a-4235-a146-f36a80e3dfef",
   "metadata": {},
   "outputs": [],
   "source": [
    "    sizes, _ = sklearn.datasets.make_blobs(n_features=3, center_box=[10, 100])\n",
    "    shipments = pandas.DataFrame(sizes, columns=['length [cm]', 'width [cm]', 'height [cm]'])"
   ]
  },
  {
   "cell_type": "markdown",
   "id": "b6034667-4b57-4e36-84cf-8eb3db22081d",
   "metadata": {},
   "source": [
    "With `prefect`, the smallest components of a pipeline are called _tasks_. These are individual operations which are usually strung together to carry out loading of data, transformations, and output. `prefect` makes it simple to turn Python functions into `prefect` _tasks_ using decorators:"
   ]
  },
  {
   "cell_type": "code",
   "execution_count": 3,
   "id": "6fea90b2-bf17-493f-87d3-661f5e2cd50d",
   "metadata": {},
   "outputs": [],
   "source": [
    "    @prefect.task\n",
    "    def compute_volume(df: pandas.DataFrame):\n",
    "        \"\"\"Compute the volume of each shipment.\"\"\"\n",
    "        df = df.copy()\n",
    "        df['volume [cm^3]'] = df['length [cm]']*df['width [cm]']*df['height [cm]']\n",
    "        return df\n",
    "\n",
    "    @prefect.task(nout=2)  # <-- `nout` is required if a task has more than one return value\n",
    "    def split_oversize(df: pandas.DataFrame, oversize_volume: float = 125000) -> tuple[pandas.DataFrame, pandas.DataFrame]:\n",
    "        \"\"\"Split the dataset into a pair of datasets - one for shippable boxes, the other for oversize boxes.\"\"\"\n",
    "        oversize = df['volume [cm^3]'] < oversize_volume\n",
    "        return df.loc[~oversize], df.loc[oversize]\n",
    "    \n",
    "    @prefect.task\n",
    "    def compute_costs(df: pandas.DataFrame, is_oversize: bool):\n",
    "        df = df.copy()\n",
    "        if is_oversize:\n",
    "            price_per_cc = 0.22\n",
    "        else:\n",
    "            price_per_cc = 0.14\n",
    "        \n",
    "        df['cost'] = df['volume [cm^3]']*price_per_cc\n",
    "        return df\n",
    "    \n",
    "    @prefect.task\n",
    "    def compute_total_cost(shippable: pandas.DataFrame, oversize: pandas.DataFrame) -> float:\n",
    "        return shippable['cost'].sum() + oversize['cost'].sum()"
   ]
  },
  {
   "cell_type": "markdown",
   "id": "db10e9f4-a7f8-4bae-acfa-37f46b541599",
   "metadata": {},
   "source": [
    "Here, I've defined Python functions as I usually would for computing the volume of each parcel and for splitting the parcels into two dataframes: one group which is oversize, and one group which is not. In order to run these tasks on our data, we'll need to define the order in which they are to be run; we'll do this by chaining them together into a _flow_. A _flow_ is a grouping of tasks with a well-defined order of execution."
   ]
  },
  {
   "cell_type": "code",
   "execution_count": 4,
   "id": "9d06f3bf-ab71-4597-9a66-d81a7fd0446a",
   "metadata": {},
   "outputs": [],
   "source": [
    "    with prefect.Flow('Shipment Flow', result=prefect.engine.results.PrefectResult()) as flow:\n",
    "        shipments_with_volume = compute_volume(shipments)\n",
    "        shippable, oversize = split_oversize(shipments_with_volume)\n",
    "        shippable_with_cost, oversize_with_cost = compute_costs(shippable, is_oversize=False), compute_costs(oversize, is_oversize=True)\n",
    "        total_cost = compute_total_cost(shippable_with_cost, oversize_with_cost)"
   ]
  },
  {
   "cell_type": "code",
   "execution_count": 6,
   "id": "cb077913-cfd9-4f1b-a81c-00fac38d34e7",
   "metadata": {},
   "outputs": [
    {
     "data": {
      "image/svg+xml": [
       "<?xml version=\"1.0\" encoding=\"UTF-8\" standalone=\"no\"?>\n",
       "<!DOCTYPE svg PUBLIC \"-//W3C//DTD SVG 1.1//EN\"\n",
       " \"http://www.w3.org/Graphics/SVG/1.1/DTD/svg11.dtd\">\n",
       "<!-- Generated by graphviz version 2.48.0 (0)\n",
       " -->\n",
       "<!-- Pages: 1 -->\n",
       "<svg width=\"374pt\" height=\"392pt\"\n",
       " viewBox=\"0.00 0.00 374.18 392.00\" xmlns=\"http://www.w3.org/2000/svg\" xmlns:xlink=\"http://www.w3.org/1999/xlink\">\n",
       "<g id=\"graph0\" class=\"graph\" transform=\"scale(1 1) rotate(0) translate(4 388)\">\n",
       "<polygon fill=\"white\" stroke=\"transparent\" points=\"-4,4 -4,-388 370.18,-388 370.18,4 -4,4\"/>\n",
       "<!-- 140500823749536 -->\n",
       "<g id=\"node1\" class=\"node\">\n",
       "<title>140500823749536</title>\n",
       "<ellipse fill=\"none\" stroke=\"black\" cx=\"183.09\" cy=\"-366\" rx=\"89.08\" ry=\"18\"/>\n",
       "<text text-anchor=\"middle\" x=\"183.09\" y=\"-362.3\" font-family=\"Times,serif\" font-size=\"14.00\">compute_volume</text>\n",
       "</g>\n",
       "<!-- 140500823752656 -->\n",
       "<g id=\"node7\" class=\"node\">\n",
       "<title>140500823752656</title>\n",
       "<ellipse fill=\"none\" stroke=\"black\" cx=\"183.09\" cy=\"-279\" rx=\"74.19\" ry=\"18\"/>\n",
       "<text text-anchor=\"middle\" x=\"183.09\" y=\"-275.3\" font-family=\"Times,serif\" font-size=\"14.00\">split_oversize</text>\n",
       "</g>\n",
       "<!-- 140500823749536&#45;&gt;140500823752656 -->\n",
       "<g id=\"edge1\" class=\"edge\">\n",
       "<title>140500823749536&#45;&gt;140500823752656</title>\n",
       "<path fill=\"none\" stroke=\"black\" d=\"M183.09,-347.8C183.09,-336.16 183.09,-320.55 183.09,-307.24\"/>\n",
       "<polygon fill=\"black\" stroke=\"black\" points=\"186.59,-307.18 183.09,-297.18 179.59,-307.18 186.59,-307.18\"/>\n",
       "<text text-anchor=\"middle\" x=\"190.59\" y=\"-318.8\" font-family=\"Times,serif\" font-size=\"14.00\">df</text>\n",
       "</g>\n",
       "<!-- 140500823755744 -->\n",
       "<g id=\"node2\" class=\"node\">\n",
       "<title>140500823755744</title>\n",
       "<ellipse fill=\"none\" stroke=\"black\" cx=\"277.09\" cy=\"-105\" rx=\"79.09\" ry=\"18\"/>\n",
       "<text text-anchor=\"middle\" x=\"277.09\" y=\"-101.3\" font-family=\"Times,serif\" font-size=\"14.00\">compute_costs</text>\n",
       "</g>\n",
       "<!-- 140500823755552 -->\n",
       "<g id=\"node3\" class=\"node\">\n",
       "<title>140500823755552</title>\n",
       "<ellipse fill=\"none\" stroke=\"black\" cx=\"186.09\" cy=\"-18\" rx=\"100.18\" ry=\"18\"/>\n",
       "<text text-anchor=\"middle\" x=\"186.09\" y=\"-14.3\" font-family=\"Times,serif\" font-size=\"14.00\">compute_total_cost</text>\n",
       "</g>\n",
       "<!-- 140500823755744&#45;&gt;140500823755552 -->\n",
       "<g id=\"edge7\" class=\"edge\">\n",
       "<title>140500823755744&#45;&gt;140500823755552</title>\n",
       "<path fill=\"none\" stroke=\"black\" d=\"M259.11,-87.21C245.53,-74.52 226.7,-56.93 211.56,-42.79\"/>\n",
       "<polygon fill=\"black\" stroke=\"black\" points=\"213.73,-40.03 204.03,-35.76 208.95,-45.14 213.73,-40.03\"/>\n",
       "<text text-anchor=\"middle\" x=\"266.09\" y=\"-57.8\" font-family=\"Times,serif\" font-size=\"14.00\">oversize</text>\n",
       "</g>\n",
       "<!-- 140500823751696 -->\n",
       "<g id=\"node4\" class=\"node\">\n",
       "<title>140500823751696</title>\n",
       "<ellipse fill=\"none\" stroke=\"black\" cx=\"87.09\" cy=\"-192\" rx=\"87.18\" ry=\"18\"/>\n",
       "<text text-anchor=\"middle\" x=\"87.09\" y=\"-188.3\" font-family=\"Times,serif\" font-size=\"14.00\">split_oversize[0]</text>\n",
       "</g>\n",
       "<!-- 140500823752816 -->\n",
       "<g id=\"node6\" class=\"node\">\n",
       "<title>140500823752816</title>\n",
       "<ellipse fill=\"none\" stroke=\"black\" cx=\"98.09\" cy=\"-105\" rx=\"79.09\" ry=\"18\"/>\n",
       "<text text-anchor=\"middle\" x=\"98.09\" y=\"-101.3\" font-family=\"Times,serif\" font-size=\"14.00\">compute_costs</text>\n",
       "</g>\n",
       "<!-- 140500823751696&#45;&gt;140500823752816 -->\n",
       "<g id=\"edge6\" class=\"edge\">\n",
       "<title>140500823751696&#45;&gt;140500823752816</title>\n",
       "<path fill=\"none\" stroke=\"black\" d=\"M89.32,-173.8C90.82,-162.16 92.84,-146.55 94.57,-133.24\"/>\n",
       "<polygon fill=\"black\" stroke=\"black\" points=\"98.06,-133.54 95.87,-123.18 91.12,-132.64 98.06,-133.54\"/>\n",
       "<text text-anchor=\"middle\" x=\"101.59\" y=\"-144.8\" font-family=\"Times,serif\" font-size=\"14.00\">df</text>\n",
       "</g>\n",
       "<!-- 140500823749584 -->\n",
       "<g id=\"node5\" class=\"node\">\n",
       "<title>140500823749584</title>\n",
       "<ellipse fill=\"none\" stroke=\"black\" cx=\"279.09\" cy=\"-192\" rx=\"87.18\" ry=\"18\"/>\n",
       "<text text-anchor=\"middle\" x=\"279.09\" y=\"-188.3\" font-family=\"Times,serif\" font-size=\"14.00\">split_oversize[1]</text>\n",
       "</g>\n",
       "<!-- 140500823749584&#45;&gt;140500823755744 -->\n",
       "<g id=\"edge4\" class=\"edge\">\n",
       "<title>140500823749584&#45;&gt;140500823755744</title>\n",
       "<path fill=\"none\" stroke=\"black\" d=\"M278.69,-173.8C278.41,-162.16 278.05,-146.55 277.73,-133.24\"/>\n",
       "<polygon fill=\"black\" stroke=\"black\" points=\"281.23,-133.09 277.5,-123.18 274.23,-133.26 281.23,-133.09\"/>\n",
       "<text text-anchor=\"middle\" x=\"285.59\" y=\"-144.8\" font-family=\"Times,serif\" font-size=\"14.00\">df</text>\n",
       "</g>\n",
       "<!-- 140500823752816&#45;&gt;140500823755552 -->\n",
       "<g id=\"edge5\" class=\"edge\">\n",
       "<title>140500823752816&#45;&gt;140500823755552</title>\n",
       "<path fill=\"none\" stroke=\"black\" d=\"M115.48,-87.21C128.62,-74.52 146.82,-56.93 161.46,-42.79\"/>\n",
       "<polygon fill=\"black\" stroke=\"black\" points=\"163.98,-45.22 168.74,-35.76 159.12,-40.19 163.98,-45.22\"/>\n",
       "<text text-anchor=\"middle\" x=\"183.09\" y=\"-57.8\" font-family=\"Times,serif\" font-size=\"14.00\">shippable</text>\n",
       "</g>\n",
       "<!-- 140500823752656&#45;&gt;140500823751696 -->\n",
       "<g id=\"edge2\" class=\"edge\">\n",
       "<title>140500823752656&#45;&gt;140500823751696</title>\n",
       "<path fill=\"none\" stroke=\"black\" d=\"M164.13,-261.21C149.66,-248.4 129.57,-230.61 113.53,-216.4\"/>\n",
       "<polygon fill=\"black\" stroke=\"black\" points=\"115.83,-213.77 106.02,-209.76 111.19,-219.01 115.83,-213.77\"/>\n",
       "<text text-anchor=\"middle\" x=\"180.59\" y=\"-231.8\" font-family=\"Times,serif\" font-size=\"14.00\">task_result</text>\n",
       "</g>\n",
       "<!-- 140500823752656&#45;&gt;140500823749584 -->\n",
       "<g id=\"edge3\" class=\"edge\">\n",
       "<title>140500823752656&#45;&gt;140500823749584</title>\n",
       "<path fill=\"none\" stroke=\"black\" d=\"M202.8,-261.39C209.59,-255.61 217.21,-249.06 224.09,-243 233.78,-234.47 244.29,-224.97 253.5,-216.57\"/>\n",
       "<polygon fill=\"black\" stroke=\"black\" points=\"255.87,-219.14 260.89,-209.81 251.15,-213.98 255.87,-219.14\"/>\n",
       "<text text-anchor=\"middle\" x=\"279.59\" y=\"-231.8\" font-family=\"Times,serif\" font-size=\"14.00\">task_result</text>\n",
       "</g>\n",
       "</g>\n",
       "</svg>\n"
      ],
      "text/plain": [
       "<graphviz.dot.Digraph at 0x7fc8e5b0bdc0>"
      ]
     },
     "execution_count": 6,
     "metadata": {},
     "output_type": "execute_result"
    }
   ],
   "source": [
    "    flow.visualize()"
   ]
  },
  {
   "cell_type": "markdown",
   "id": "1e0d44c3-ea39-4809-af34-49468a4c486e",
   "metadata": {},
   "source": [
    "Okay, the flow has been set up and we're sure the task graph looks good. Let's run it!"
   ]
  },
  {
   "cell_type": "code",
   "execution_count": 7,
   "id": "a5fc7332-0e3c-4279-bdaa-430af55094bf",
   "metadata": {},
   "outputs": [
    {
     "name": "stdout",
     "output_type": "stream",
     "text": [
      "[2021-08-09 15:50:05-0700] INFO - prefect.FlowRunner | Beginning Flow run for 'Shipment Flow'\n",
      "[2021-08-09 15:50:05-0700] INFO - prefect.TaskRunner | Task 'compute_volume': Starting task run...\n",
      "[2021-08-09 15:50:05-0700] INFO - prefect.TaskRunner | Task 'compute_volume': Finished task run for task with final state: 'Success'\n",
      "[2021-08-09 15:50:05-0700] INFO - prefect.TaskRunner | Task 'split_oversize': Starting task run...\n",
      "[2021-08-09 15:50:05-0700] INFO - prefect.TaskRunner | Task 'split_oversize': Finished task run for task with final state: 'Success'\n",
      "[2021-08-09 15:50:06-0700] INFO - prefect.TaskRunner | Task 'split_oversize[0]': Starting task run...\n",
      "[2021-08-09 15:50:06-0700] INFO - prefect.TaskRunner | Task 'split_oversize[0]': Finished task run for task with final state: 'Success'\n",
      "[2021-08-09 15:50:06-0700] INFO - prefect.TaskRunner | Task 'split_oversize[1]': Starting task run...\n",
      "[2021-08-09 15:50:06-0700] INFO - prefect.TaskRunner | Task 'split_oversize[1]': Finished task run for task with final state: 'Success'\n",
      "[2021-08-09 15:50:06-0700] INFO - prefect.TaskRunner | Task 'compute_costs': Starting task run...\n",
      "[2021-08-09 15:50:06-0700] INFO - prefect.TaskRunner | Task 'compute_costs': Finished task run for task with final state: 'Success'\n",
      "[2021-08-09 15:50:06-0700] INFO - prefect.TaskRunner | Task 'compute_costs': Starting task run...\n",
      "[2021-08-09 15:50:06-0700] INFO - prefect.TaskRunner | Task 'compute_costs': Finished task run for task with final state: 'Success'\n",
      "[2021-08-09 15:50:06-0700] INFO - prefect.TaskRunner | Task 'compute_total_cost': Starting task run...\n",
      "[2021-08-09 15:50:06-0700] INFO - prefect.TaskRunner | Task 'compute_total_cost': Finished task run for task with final state: 'Success'\n",
      "[2021-08-09 15:50:06-0700] INFO - prefect.FlowRunner | Flow run SUCCESS: all reference tasks succeeded\n"
     ]
    }
   ],
   "source": [
    "    state = flow.run()"
   ]
  },
  {
   "cell_type": "markdown",
   "id": "a465cb6a-bdcc-4af7-bd6a-f5360c3b6eca",
   "metadata": {},
   "source": [
    "Excellent, it looks like all tasks executed successfully! Next, let's look at the results. By default, `prefect` keeps track"
   ]
  },
  {
   "cell_type": "code",
   "execution_count": 8,
   "id": "80249e18-4038-4dfc-a9c0-d4059652f72e",
   "metadata": {},
   "outputs": [
    {
     "data": {
      "text/plain": [
       "{<Task: compute_volume>: <Success: \"Task run succeeded.\">,\n",
       " <Task: compute_costs>: <Success: \"Task run succeeded.\">,\n",
       " <Task: compute_total_cost>: <Success: \"Task run succeeded.\">,\n",
       " <Task: split_oversize[0]>: <Success: \"Task run succeeded.\">,\n",
       " <Task: split_oversize[1]>: <Success: \"Task run succeeded.\">,\n",
       " <Task: compute_costs>: <Success: \"Task run succeeded.\">,\n",
       " <Task: split_oversize>: <Success: \"Task run succeeded.\">}"
      ]
     },
     "execution_count": 8,
     "metadata": {},
     "output_type": "execute_result"
    }
   ],
   "source": [
    "    state.result"
   ]
  },
  {
   "cell_type": "code",
   "execution_count": 10,
   "id": "19fc7772-7487-42bd-aac5-b9238e0b1c17",
   "metadata": {},
   "outputs": [
    {
     "data": {
      "text/plain": [
       "3499805.156768381"
      ]
     },
     "execution_count": 10,
     "metadata": {},
     "output_type": "execute_result"
    }
   ],
   "source": [
    "    state.result[total_cost].result"
   ]
  },
  {
   "cell_type": "code",
   "execution_count": 15,
   "id": "e7f1688e-a192-4299-a0b9-fa8367616f40",
   "metadata": {},
   "outputs": [],
   "source": [
    "    if __name__ == \"__main__\":\n",
    "        flow = generate_flow()\n",
    "        flow.visualize()\n",
    "#         import doctest\n",
    "#         doctest.testmod()"
   ]
  },
  {
   "cell_type": "markdown",
   "id": "0afe029b-b8c8-4716-adc9-1413231148ed",
   "metadata": {},
   "source": [
    "## what and why should continue with `prefect`"
   ]
  },
  {
   "cell_type": "markdown",
   "id": "23801ff3-eaa7-4986-8bcb-6b7274645841",
   "metadata": {},
   "source": [
    "One of the most useful features of `prefect` is its ability to generate a task graph using `graphviz`. To generate a graph,"
   ]
  },
  {
   "cell_type": "code",
   "execution_count": 13,
   "id": "38052a3a-b366-460b-9611-e6040f7a0211",
   "metadata": {},
   "outputs": [
    {
     "data": {
      "image/svg+xml": [
       "<?xml version=\"1.0\" encoding=\"UTF-8\" standalone=\"no\"?>\n",
       "<!DOCTYPE svg PUBLIC \"-//W3C//DTD SVG 1.1//EN\"\n",
       " \"http://www.w3.org/Graphics/SVG/1.1/DTD/svg11.dtd\">\n",
       "<!-- Generated by graphviz version 2.48.0 (0)\n",
       " -->\n",
       "<!-- Pages: 1 -->\n",
       "<svg width=\"222pt\" height=\"218pt\"\n",
       " viewBox=\"0.00 0.00 222.20 218.00\" xmlns=\"http://www.w3.org/2000/svg\" xmlns:xlink=\"http://www.w3.org/1999/xlink\">\n",
       "<g id=\"graph0\" class=\"graph\" transform=\"scale(1 1) rotate(0) translate(4 214)\">\n",
       "<polygon fill=\"white\" stroke=\"transparent\" points=\"-4,4 -4,-214 218.2,-214 218.2,4 -4,4\"/>\n",
       "<!-- 140613545850144 -->\n",
       "<g id=\"node1\" class=\"node\">\n",
       "<title>140613545850144</title>\n",
       "<ellipse fill=\"none\" stroke=\"black\" cx=\"97.2\" cy=\"-192\" rx=\"89.08\" ry=\"18\"/>\n",
       "<text text-anchor=\"middle\" x=\"97.2\" y=\"-188.3\" font-family=\"Times,serif\" font-size=\"14.00\">make_random_df</text>\n",
       "</g>\n",
       "<!-- 140614081281280 -->\n",
       "<g id=\"node2\" class=\"node\">\n",
       "<title>140614081281280</title>\n",
       "<ellipse fill=\"none\" stroke=\"black\" cx=\"97.2\" cy=\"-105\" rx=\"31.4\" ry=\"18\"/>\n",
       "<text text-anchor=\"middle\" x=\"97.2\" y=\"-101.3\" font-family=\"Times,serif\" font-size=\"14.00\">split</text>\n",
       "</g>\n",
       "<!-- 140613545850144&#45;&gt;140614081281280 -->\n",
       "<g id=\"edge3\" class=\"edge\">\n",
       "<title>140613545850144&#45;&gt;140614081281280</title>\n",
       "<path fill=\"none\" stroke=\"black\" d=\"M97.2,-173.8C97.2,-162.16 97.2,-146.55 97.2,-133.24\"/>\n",
       "<polygon fill=\"black\" stroke=\"black\" points=\"100.7,-133.18 97.2,-123.18 93.7,-133.18 100.7,-133.18\"/>\n",
       "<text text-anchor=\"middle\" x=\"104.7\" y=\"-144.8\" font-family=\"Times,serif\" font-size=\"14.00\">df</text>\n",
       "</g>\n",
       "<!-- 140613545849136 -->\n",
       "<g id=\"node3\" class=\"node\">\n",
       "<title>140613545849136</title>\n",
       "<ellipse fill=\"none\" stroke=\"black\" cx=\"44.2\" cy=\"-18\" rx=\"44.39\" ry=\"18\"/>\n",
       "<text text-anchor=\"middle\" x=\"44.2\" y=\"-14.3\" font-family=\"Times,serif\" font-size=\"14.00\">split[0]</text>\n",
       "</g>\n",
       "<!-- 140614081281280&#45;&gt;140613545849136 -->\n",
       "<g id=\"edge2\" class=\"edge\">\n",
       "<title>140614081281280&#45;&gt;140613545849136</title>\n",
       "<path fill=\"none\" stroke=\"black\" d=\"M72.14,-94.01C61.51,-88.36 50.2,-80.17 44.2,-69 40.52,-62.17 39.41,-54.01 39.52,-46.29\"/>\n",
       "<polygon fill=\"black\" stroke=\"black\" points=\"43.02,-46.43 40.31,-36.19 36.04,-45.89 43.02,-46.43\"/>\n",
       "<text text-anchor=\"middle\" x=\"83.7\" y=\"-57.8\" font-family=\"Times,serif\" font-size=\"14.00\">task_result</text>\n",
       "</g>\n",
       "<!-- 140613545997984 -->\n",
       "<g id=\"node4\" class=\"node\">\n",
       "<title>140613545997984</title>\n",
       "<ellipse fill=\"none\" stroke=\"black\" cx=\"150.2\" cy=\"-18\" rx=\"44.39\" ry=\"18\"/>\n",
       "<text text-anchor=\"middle\" x=\"150.2\" y=\"-14.3\" font-family=\"Times,serif\" font-size=\"14.00\">split[1]</text>\n",
       "</g>\n",
       "<!-- 140614081281280&#45;&gt;140613545997984 -->\n",
       "<g id=\"edge1\" class=\"edge\">\n",
       "<title>140614081281280&#45;&gt;140613545997984</title>\n",
       "<path fill=\"none\" stroke=\"black\" d=\"M111.92,-88.7C117.13,-82.83 122.79,-75.87 127.2,-69 131.96,-61.56 136.28,-52.98 139.86,-45.05\"/>\n",
       "<polygon fill=\"black\" stroke=\"black\" points=\"143.1,-46.38 143.84,-35.81 136.67,-43.61 143.1,-46.38\"/>\n",
       "<text text-anchor=\"middle\" x=\"174.7\" y=\"-57.8\" font-family=\"Times,serif\" font-size=\"14.00\">task_result</text>\n",
       "</g>\n",
       "</g>\n",
       "</svg>\n"
      ],
      "text/plain": [
       "<graphviz.dot.Digraph at 0x7fe3248eeee0>"
      ]
     },
     "execution_count": 13,
     "metadata": {},
     "output_type": "execute_result"
    }
   ],
   "source": [
    "flow = generate_flow()\n",
    "flow.visualize()"
   ]
  },
  {
   "cell_type": "markdown",
   "id": "78cf9287-2560-4ee6-ab04-71f680985909",
   "metadata": {},
   "source": [
    "* what other problems could this solve?\n",
    "Although this example is simple, it could be extended to meet the needs of a full-fledged ML pipeline."
   ]
  }
 ],
 "metadata": {
  "kernelspec": {
   "display_name": "Python 3 (ipykernel)",
   "language": "python",
   "name": "python3"
  },
  "language_info": {
   "codemirror_mode": {
    "name": "ipython",
    "version": 3
   },
   "file_extension": ".py",
   "mimetype": "text/x-python",
   "name": "python",
   "nbconvert_exporter": "python",
   "pygments_lexer": "ipython3",
   "version": "3.9.1"
  }
 },
 "nbformat": 4,
 "nbformat_minor": 5
}
